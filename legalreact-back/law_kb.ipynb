{
 "cells": [
  {
   "cell_type": "code",
   "execution_count": 1,
   "metadata": {},
   "outputs": [
    {
     "name": "stderr",
     "output_type": "stream",
     "text": [
      "/opt/anaconda3/envs/new_env/lib/python3.10/site-packages/tqdm/auto.py:21: TqdmWarning: IProgress not found. Please update jupyter and ipywidgets. See https://ipywidgets.readthedocs.io/en/stable/user_install.html\n",
      "  from .autonotebook import tqdm as notebook_tqdm\n"
     ]
    }
   ],
   "source": [
    "import os\n",
    "import pinecone\n",
    "from datetime import datetime, timedelta\n",
    "from azure.storage.blob import BlobServiceClient, generate_blob_sas, BlobSasPermissions\n",
    "from azure.ai.documentintelligence import DocumentIntelligenceClient\n",
    "from azure.core.credentials import AzureKeyCredential\n",
    "from openai import OpenAI\n",
    "from openai import AzureOpenAI\n",
    "from azure.ai.documentintelligence.models import AnalyzeDocumentRequest"
   ]
  },
  {
   "cell_type": "code",
   "execution_count": 6,
   "metadata": {},
   "outputs": [],
   "source": [
    "PINECONE_API_KEY = os.getenv(\"PINECONE_API_KEY\")\n",
    "PINECONE_ENV = os.getenv(\"PINECONE_ENV\")\n",
    "PINECONE_INDEX_NAME = \"law-kb\""
   ]
  },
  {
   "cell_type": "code",
   "execution_count": 7,
   "metadata": {},
   "outputs": [],
   "source": [
    "if not PINECONE_API_KEY:\n",
    "    raise ValueError(\"PINECONE_API_KEY is not set.\")\n",
    "pc = pinecone.Pinecone(api_key=os.getenv(\"PINECONE_API_KEY\"))\n",
    "index_name = PINECONE_INDEX_NAME\n",
    "index2 = pc.Index(index_name)"
   ]
  },
  {
   "cell_type": "code",
   "execution_count": 8,
   "metadata": {},
   "outputs": [],
   "source": [
    "openai_client = AzureOpenAI(\n",
    "    api_key = os.getenv(\"EMBEDDING_API_KEY\"),\n",
    "    api_version = os.getenv(\"EMBEDDING_API_VERSION\"),\n",
    "    azure_endpoint=os.getenv(\"EMBEDDING_API_ENDPOINT\")\n",
    ")\n",
    "\n",
    "def generate_embeddings(text):\n",
    "    response = openai_client.embeddings.create(model=\"text-embedding-ada-002\", input=text)\n",
    "    return response.data[0].embedding\n"
   ]
  },
  {
   "cell_type": "code",
   "execution_count": null,
   "metadata": {},
   "outputs": [],
   "source": [
    "laws = [\n",
    "    {\n",
    "        \"id\": \"1\",\n",
    "        \"title\": \"Consumer Protection Act, 2019 - False Advertising\",\n",
    "        \"description\": \"This law protects consumers against false or misleading advertisements.\",\n",
    "        \"section\": \"Section 2(28), Section 21\",\n",
    "        \"penalty\": \"Fine up to ₹10,00,000 or imprisonment up to 2 years.\",\n",
    "        \"jurisdiction\": \"India\",\n",
    "        \"source\": \"https://egazette.nic.in\"\n",
    "    },\n",
    "    {\n",
    "        \"id\": \"2\",\n",
    "        \"title\": \"The Indian Penal Code, 1860 - Cheating\",\n",
    "        \"description\": \"This law penalizes acts where a person intentionally deceives another.\",\n",
    "        \"section\": \"Section 415, Section 417, Section 420\",\n",
    "        \"penalty\": \"Imprisonment up to 7 years and fine.\",\n",
    "        \"jurisdiction\": \"India\",\n",
    "        \"source\": \"https://indiacode.nic.in\"\n",
    "    }\n",
    "]"
   ]
  },
  {
   "cell_type": "code",
   "execution_count": 12,
   "metadata": {},
   "outputs": [],
   "source": [
    "def store_laws_in_pinecone():\n",
    "    for law in laws:\n",
    "        law_text = f\"{law['title']} {law['description']} {law['section']} {law['penalty']} {law['jurisdiction']}\"\n",
    "        \n",
    "        # Generate embedding\n",
    "        response = openai_client.embeddings.create(model=\"text-embedding-ada-002\", input=law_text)\n",
    "\n",
    "        # Convert response to dictionary\n",
    "        response_dict = response.model_dump()\n",
    "        embedding = response_dict[\"data\"][0][\"embedding\"]\n",
    "\n",
    "        # Store in Pinecone\n",
    "        index2.upsert([(law[\"id\"], embedding, law)])\n",
    "\n",
    "    print(\"Laws stored in Pinecone\")"
   ]
  },
  {
   "cell_type": "code",
   "execution_count": 13,
   "metadata": {},
   "outputs": [
    {
     "name": "stdout",
     "output_type": "stream",
     "text": [
      "Laws stored in Pinecone\n"
     ]
    }
   ],
   "source": [
    "store_laws_in_pinecone()"
   ]
  }
 ],
 "metadata": {
  "kernelspec": {
   "display_name": "new_env",
   "language": "python",
   "name": "python3"
  },
  "language_info": {
   "codemirror_mode": {
    "name": "ipython",
    "version": 3
   },
   "file_extension": ".py",
   "mimetype": "text/x-python",
   "name": "python",
   "nbconvert_exporter": "python",
   "pygments_lexer": "ipython3",
   "version": "3.10.15"
  }
 },
 "nbformat": 4,
 "nbformat_minor": 2
}
